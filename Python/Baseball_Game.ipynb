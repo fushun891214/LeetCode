{
 "cells": [
  {
   "attachments": {},
   "cell_type": "markdown",
   "metadata": {},
   "source": [
    "682. Baseball Game"
   ]
  },
  {
   "attachments": {},
   "cell_type": "markdown",
   "metadata": {},
   "source": [
    "You are keeping the scores for a baseball game with strange rules. At the beginning of the game, you start with an empty record.\n",
    "\n",
    "You are given a list of strings operations, where operations[i] is the ith operation you must apply to the record and is one of the following:\n",
    "\n",
    "An integer x.\n",
    "\n",
    "Record a new score of x.\n",
    "\n",
    "'+'.\n",
    "\n",
    "Record a new score that is the sum of the previous two scores.\n",
    "\n",
    "'D'.\n",
    "\n",
    "Record a new score that is the double of the previous score.\n",
    "\n",
    "'C'.\n",
    "\n",
    "Invalidate the previous score, removing it from the record.\n",
    "\n",
    "Return the sum of all the scores on the record after applying all the operations.\n",
    "\n",
    "The test cases are generated such that the answer and all intermediate calculations fit in a 32-bit integer and that all operations are valid."
   ]
  },
  {
   "attachments": {},
   "cell_type": "markdown",
   "metadata": {},
   "source": [
    "Example 1:\n",
    "\n",
    "Input: ops = [\"5\",\"2\",\"C\",\"D\",\"+\"]\n",
    "\n",
    "Output: 30\n",
    "\n",
    "Explanation:\n",
    "\n",
    "\"5\" - Add 5 to the record, record is now [5].\n",
    "\n",
    "\"2\" - Add 2 to the record, record is now [5, 2].\n",
    "\n",
    "\"C\" - Invalidate and remove the previous score, record is now [5].\n",
    "\n",
    "\"D\" - Add 2 * 5 = 10 to the record, record is now [5, 10].\n",
    "\n",
    "\"+\" - Add 5 + 10 = 15 to the record, record is now [5, 10, 15].\n",
    "\n",
    "The total sum is 5 + 10 + 15 = 30."
   ]
  },
  {
   "attachments": {},
   "cell_type": "markdown",
   "metadata": {},
   "source": [
    "Example 2:\n",
    "\n",
    "Input: ops = [\"5\",\"-2\",\"4\",\"C\",\"D\",\"9\",\"+\",\"+\"]\n",
    "\n",
    "Output: 27\n",
    "\n",
    "Explanation:\n",
    "\n",
    "\"5\" - Add 5 to the record, record is now [5].\n",
    "\n",
    "\"-2\" - Add -2 to the record, record is now [5, -2].\n",
    "\n",
    "\"4\" - Add 4 to the record, record is now [5, -2, 4].\n",
    "\n",
    "\"C\" - Invalidate and remove the previous score, record is now [5, -2].\n",
    "\n",
    "\"D\" - Add 2 * -2 = -4 to the record, record is now [5, -2, -4].\n",
    "\n",
    "\"9\" - Add 9 to the record, record is now [5, -2, -4, 9].\n",
    "\n",
    "\"+\" - Add -4 + 9 = 5 to the record, record is now [5, -2, -4, 9, 5].\n",
    "\n",
    "\"+\" - Add 9 + 5 = 14 to the record, record is now [5, -2, -4, 9, 5, 14].\n",
    "\n",
    "The total sum is 5 + -2 + -4 + 9 + 5 + 14 = 27."
   ]
  },
  {
   "attachments": {},
   "cell_type": "markdown",
   "metadata": {},
   "source": [
    "Example 3:\n",
    "\n",
    "Input: ops = [\"1\",\"C\"]\n",
    "\n",
    "Output: 0\n",
    "\n",
    "Explanation:\n",
    "\n",
    "\"1\" - Add 1 to the record, record is now [1].\n",
    "\n",
    "\"C\" - Invalidate and remove the previous score, record is now [].\n",
    "\n",
    "Since the record is empty, the total sum is 0."
   ]
  },
  {
   "cell_type": "code",
   "execution_count": 100,
   "metadata": {},
   "outputs": [],
   "source": [
    "class Solution(object):\n",
    "    def calPoints(self, operations):\n",
    "        nums = []\n",
    "        for i in operations:\n",
    "            try:\n",
    "                nums.append(int(i))\n",
    "            except ValueError :\n",
    "                if i == \"C\":\n",
    "                    nums.pop()\n",
    "                elif i == \"D\":\n",
    "                    nums.append(nums[len(nums)-1]*2)\n",
    "                elif i == \"+\":\n",
    "                    nums.append(nums[len(nums)-1]+nums[len(nums)-2])  \n",
    "        return sum(nums)\n",
    "        "
   ]
  },
  {
   "cell_type": "code",
   "execution_count": 101,
   "metadata": {},
   "outputs": [],
   "source": [
    "res = Solution()"
   ]
  },
  {
   "cell_type": "code",
   "execution_count": 102,
   "metadata": {},
   "outputs": [],
   "source": [
    "ops = [\"5\",\"2\",\"C\",\"D\",\"+\"]"
   ]
  },
  {
   "cell_type": "code",
   "execution_count": 103,
   "metadata": {},
   "outputs": [
    {
     "data": {
      "text/plain": [
       "30"
      ]
     },
     "execution_count": 103,
     "metadata": {},
     "output_type": "execute_result"
    }
   ],
   "source": [
    "res.calPoints(ops)"
   ]
  },
  {
   "cell_type": "code",
   "execution_count": 104,
   "metadata": {},
   "outputs": [],
   "source": [
    "ops = [\"5\",\"-2\",\"4\",\"C\",\"D\",\"9\",\"+\",\"+\"]"
   ]
  },
  {
   "cell_type": "code",
   "execution_count": 105,
   "metadata": {},
   "outputs": [
    {
     "data": {
      "text/plain": [
       "27"
      ]
     },
     "execution_count": 105,
     "metadata": {},
     "output_type": "execute_result"
    }
   ],
   "source": [
    "res.calPoints(ops)"
   ]
  },
  {
   "cell_type": "code",
   "execution_count": 106,
   "metadata": {},
   "outputs": [],
   "source": [
    "ops = [\"1\",\"C\"]"
   ]
  },
  {
   "cell_type": "code",
   "execution_count": 107,
   "metadata": {},
   "outputs": [
    {
     "data": {
      "text/plain": [
       "0"
      ]
     },
     "execution_count": 107,
     "metadata": {},
     "output_type": "execute_result"
    }
   ],
   "source": [
    "res.calPoints(ops)"
   ]
  }
 ],
 "metadata": {
  "kernelspec": {
   "display_name": "Python 3",
   "language": "python",
   "name": "python3"
  },
  "language_info": {
   "codemirror_mode": {
    "name": "ipython",
    "version": 3
   },
   "file_extension": ".py",
   "mimetype": "text/x-python",
   "name": "python",
   "nbconvert_exporter": "python",
   "pygments_lexer": "ipython3",
   "version": "3.10.4"
  },
  "orig_nbformat": 4,
  "vscode": {
   "interpreter": {
    "hash": "3ad933181bd8a04b432d3370b9dc3b0662ad032c4dfaa4e4f1596c548f763858"
   }
  }
 },
 "nbformat": 4,
 "nbformat_minor": 2
}

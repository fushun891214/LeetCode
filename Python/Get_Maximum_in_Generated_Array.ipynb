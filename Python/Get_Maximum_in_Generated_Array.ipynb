{
 "cells": [
  {
   "attachments": {},
   "cell_type": "markdown",
   "metadata": {},
   "source": [
    "1646. Get Maximum in Generated Array"
   ]
  },
  {
   "attachments": {},
   "cell_type": "markdown",
   "metadata": {},
   "source": [
    "You are given an integer n. A 0-indexed integer array nums of length n + 1 is generated in the following way:\n",
    "\n",
    "nums[0] = 0\n",
    "\n",
    "nums[1] = 1\n",
    "\n",
    "nums[2 * i] = nums[i] when 2 <= 2 * i <= n\n",
    "\n",
    "nums[2 * i + 1] = nums[i] + nums[i + 1] when 2 <= 2 * i + 1 <= n\n",
    "\n",
    "Return the maximum integer in the array nums​​​."
   ]
  },
  {
   "attachments": {},
   "cell_type": "markdown",
   "metadata": {},
   "source": [
    "Example 1:\n",
    "\n",
    "Input: n = 7\n",
    "\n",
    "Output: 3\n",
    "\n",
    "Explanation: According to the given rules:\n",
    "\n",
    "  nums[0] = 0\n",
    "\n",
    "  nums[1] = 1\n",
    "\n",
    "  nums[(1 * 2) = 2] = nums[1] = 1\n",
    "\n",
    "  nums[(1 * 2) + 1 = 3] = nums[1] + nums[2] = 1 + 1 = 2\n",
    "\n",
    "  nums[(2 * 2) = 4] = nums[2] = 1\n",
    "\n",
    "  nums[(2 * 2) + 1 = 5] = nums[2] + nums[3] = 1 + 2 = 3\n",
    "\n",
    "  nums[(3 * 2) = 6] = nums[3] = 2\n",
    "\n",
    "  nums[(3 * 2) + 1 = 7] = nums[3] + nums[4] = 2 + 1 = 3\n",
    "  \n",
    "Hence, nums = [0,1,1,2,1,3,2,3], and the maximum is max(0,1,1,2,1,3,2,3) = 3."
   ]
  },
  {
   "attachments": {},
   "cell_type": "markdown",
   "metadata": {},
   "source": [
    "Example 2:\n",
    "\n",
    "Input: n = 2\n",
    "\n",
    "Output: 1\n",
    "\n",
    "Explanation: According to the given rules, nums = [0,1,1]. The maximum is max(0,1,1) = 1."
   ]
  },
  {
   "cell_type": "code",
   "execution_count": 106,
   "metadata": {},
   "outputs": [],
   "source": [
    "n = 7\n"
   ]
  },
  {
   "cell_type": "code",
   "execution_count": 107,
   "metadata": {},
   "outputs": [],
   "source": [
    "class Solution(object):\n",
    "    def getMaximumGenerated(self, n):\n",
    "        num = []\n",
    "        j = 1\n",
    "        for i in range(n+1) :\n",
    "            if i%2==0 and i>=2:\n",
    "                num.append(num[i//2])\n",
    "            elif i>=2 and i%2==1:\n",
    "                num.append(num[i-j]+num[i-j-1])\n",
    "                j += 1\n",
    "            else:\n",
    "                num.append(i)\n",
    "        return max(num)"
   ]
  },
  {
   "cell_type": "code",
   "execution_count": 108,
   "metadata": {},
   "outputs": [],
   "source": [
    "res = Solution()"
   ]
  },
  {
   "cell_type": "code",
   "execution_count": 109,
   "metadata": {},
   "outputs": [
    {
     "data": {
      "text/plain": [
       "3"
      ]
     },
     "execution_count": 109,
     "metadata": {},
     "output_type": "execute_result"
    }
   ],
   "source": [
    "res.getMaximumGenerated(n)"
   ]
  },
  {
   "cell_type": "code",
   "execution_count": 110,
   "metadata": {},
   "outputs": [],
   "source": [
    "n = 2"
   ]
  },
  {
   "cell_type": "code",
   "execution_count": 111,
   "metadata": {},
   "outputs": [
    {
     "data": {
      "text/plain": [
       "1"
      ]
     },
     "execution_count": 111,
     "metadata": {},
     "output_type": "execute_result"
    }
   ],
   "source": [
    "res.getMaximumGenerated(2)"
   ]
  }
 ],
 "metadata": {
  "kernelspec": {
   "display_name": "Python 3",
   "language": "python",
   "name": "python3"
  },
  "language_info": {
   "codemirror_mode": {
    "name": "ipython",
    "version": 3
   },
   "file_extension": ".py",
   "mimetype": "text/x-python",
   "name": "python",
   "nbconvert_exporter": "python",
   "pygments_lexer": "ipython3",
   "version": "3.10.4"
  },
  "orig_nbformat": 4,
  "vscode": {
   "interpreter": {
    "hash": "3ad933181bd8a04b432d3370b9dc3b0662ad032c4dfaa4e4f1596c548f763858"
   }
  }
 },
 "nbformat": 4,
 "nbformat_minor": 2
}

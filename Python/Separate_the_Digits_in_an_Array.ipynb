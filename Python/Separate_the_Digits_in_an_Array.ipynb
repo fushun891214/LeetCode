{
 "cells": [
  {
   "attachments": {},
   "cell_type": "markdown",
   "metadata": {},
   "source": [
    "2553. Separate the Digits in an Array\n",
    "\n",
    "Given an array of positive integers nums, return an array answer that consists of the digits of each integer in nums after separating them in the same order they appear in nums.\n",
    "\n",
    "To separate the digits of an integer is to get all the digits it has in the same order.\n",
    "\n",
    "For example, for the integer 10921, the separation of its digits is [1,0,9,2,1]."
   ]
  },
  {
   "attachments": {},
   "cell_type": "markdown",
   "metadata": {},
   "source": [
    "Example 1:\n",
    "\n",
    "Input: nums = [13,25,83,77]\n",
    "\n",
    "Output: [1,3,2,5,8,3,7,7]\n",
    "\n",
    "Explanation: \n",
    "\n",
    "- The separation of 13 is [1,3].\n",
    "\n",
    "- The separation of 25 is [2,5].\n",
    "\n",
    "- The separation of 83 is [8,3].\n",
    "\n",
    "- The separation of 77 is [7,7].\n",
    "\n",
    "answer = [1,3,2,5,8,3,7,7]. Note that answer \n",
    "\n",
    "contains the separations in the same order.\n",
    "\n",
    "Example 2:\n",
    "\n",
    "Input: nums = [7,1,3,9]\n",
    "\n",
    "Output: [7,1,3,9]\n",
    "\n",
    "Explanation: The separation of each integer in nums is itself.\n",
    "\n",
    "answer = [7,1,3,9]."
   ]
  },
  {
   "cell_type": "code",
   "execution_count": 17,
   "metadata": {},
   "outputs": [],
   "source": [
    "nums = [13,25,83,77,10921]"
   ]
  },
  {
   "cell_type": "code",
   "execution_count": 38,
   "metadata": {},
   "outputs": [],
   "source": [
    "class Solution(object):\n",
    "    def separateDigits(nums):\n",
    "        string = []\n",
    "        for i in range(len(nums)):\n",
    "            for j in str(nums[i]):\n",
    "                string.append(int(j))\n",
    "        return string        "
   ]
  },
  {
   "cell_type": "code",
   "execution_count": 39,
   "metadata": {},
   "outputs": [
    {
     "data": {
      "text/plain": [
       "[1, 3, 2, 5, 8, 3, 7, 7, 1, 0, 9, 2, 1]"
      ]
     },
     "execution_count": 39,
     "metadata": {},
     "output_type": "execute_result"
    }
   ],
   "source": [
    "Solution.separateDigits(nums)"
   ]
  },
  {
   "cell_type": "markdown",
   "metadata": {},
   "source": []
  }
 ],
 "metadata": {
  "kernelspec": {
   "display_name": "Python 3",
   "language": "python",
   "name": "python3"
  },
  "language_info": {
   "codemirror_mode": {
    "name": "ipython",
    "version": 3
   },
   "file_extension": ".py",
   "mimetype": "text/x-python",
   "name": "python",
   "nbconvert_exporter": "python",
   "pygments_lexer": "ipython3",
   "version": "3.10.4"
  },
  "orig_nbformat": 4,
  "vscode": {
   "interpreter": {
    "hash": "3ad933181bd8a04b432d3370b9dc3b0662ad032c4dfaa4e4f1596c548f763858"
   }
  }
 },
 "nbformat": 4,
 "nbformat_minor": 2
}

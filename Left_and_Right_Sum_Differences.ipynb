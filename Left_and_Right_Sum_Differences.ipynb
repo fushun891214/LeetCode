{
 "cells": [
  {
   "cell_type": "markdown",
   "metadata": {},
   "source": [
    "2574. Left and Right Sum Differences\n"
   ]
  },
  {
   "cell_type": "markdown",
   "metadata": {},
   "source": [
    "Given a 0-indexed integer array nums, find a 0-indexed integer array answer where:\n",
    "\n",
    "answer.length == nums.length.\n",
    "\n",
    "answer[i] = |leftSum[i] - rightSum[i]|.\n",
    "\n",
    "Where:\n",
    "\n",
    "leftSum[i] is the sum of elements to the left of the index i in the array nums. If there is no such element, leftSum[i] = 0.\n",
    "\n",
    "rightSum[i] is the sum of elements to the right of the index i in the array nums. If there is no such element, rightSum[i] = 0.\n",
    "\n",
    "Return the array answer."
   ]
  },
  {
   "cell_type": "markdown",
   "metadata": {},
   "source": [
    "Example 1:\n",
    "\n",
    "Input: nums = [10,4,8,3]\n",
    "\n",
    "Output: [15,1,11,22]\n",
    "\n",
    "Explanation: The array leftSum is [0,10,14,22] and the array rightSum is [15,11,3,0].\n",
    "\n",
    "The array answer is [|0 - 15|,|10 - 11|,|14 - 3|,|22 - 0|] = [15,1,11,22]."
   ]
  },
  {
   "cell_type": "markdown",
   "metadata": {},
   "source": [
    "Example 2:\n",
    "\n",
    "Input: nums = [1]\n",
    "\n",
    "Output: [0]\n",
    "\n",
    "Explanation: The array leftSum is [0] and the array rightSum is [0].\n",
    "\n",
    "The array answer is [|0 - 0|] = [0]."
   ]
  },
  {
   "cell_type": "code",
   "execution_count": 149,
   "metadata": {},
   "outputs": [],
   "source": [
    "class Solution(object):\n",
    "    def leftRightDifference(self, nums):\n",
    "        if len(nums) == 1:\n",
    "            return [0]\n",
    "        lef = 0\n",
    "        rig = sum(nums[len(nums)-(len(nums)-1):len(nums)])\n",
    "        leftsum = [lef]\n",
    "        rightsum = [rig]\n",
    "        res = []\n",
    "        for i in range(len(nums)-1):\n",
    "            leftsum.append(lef+nums[i])\n",
    "            lef += nums[i]\n",
    "            rightsum.append(rig-nums[i+1])\n",
    "            rig -= nums[i+1]\n",
    "        res = [abs(leftsum[i]-rightsum[i]) for i in range(len(nums))]\n",
    "        return res"
   ]
  },
  {
   "cell_type": "code",
   "execution_count": 150,
   "metadata": {},
   "outputs": [],
   "source": [
    "nums = [10,4,8,3]"
   ]
  },
  {
   "cell_type": "code",
   "execution_count": 151,
   "metadata": {},
   "outputs": [],
   "source": [
    "res = Solution()"
   ]
  },
  {
   "cell_type": "code",
   "execution_count": 152,
   "metadata": {},
   "outputs": [
    {
     "data": {
      "text/plain": [
       "[15, 1, 11, 22]"
      ]
     },
     "execution_count": 152,
     "metadata": {},
     "output_type": "execute_result"
    }
   ],
   "source": [
    "res.leftRightDifference(nums)"
   ]
  }
 ],
 "metadata": {
  "kernelspec": {
   "display_name": "Python 3",
   "language": "python",
   "name": "python3"
  },
  "language_info": {
   "codemirror_mode": {
    "name": "ipython",
    "version": 3
   },
   "file_extension": ".py",
   "mimetype": "text/x-python",
   "name": "python",
   "nbconvert_exporter": "python",
   "pygments_lexer": "ipython3",
   "version": "3.8.5"
  }
 },
 "nbformat": 4,
 "nbformat_minor": 4
}

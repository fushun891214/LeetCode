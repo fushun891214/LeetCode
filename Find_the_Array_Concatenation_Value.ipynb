{
 "cells": [
  {
   "cell_type": "markdown",
   "metadata": {},
   "source": [
    "2562. Find the Array Concatenation Value"
   ]
  },
  {
   "attachments": {},
   "cell_type": "markdown",
   "metadata": {},
   "source": [
    "You are given a 0-indexed integer array nums.\n",
    "\n",
    "The concatenation of two numbers is the number formed by concatenating their numerals.\n",
    "\n",
    "For example, the concatenation of 15, 49 is 1549.\n",
    "\n",
    "The concatenation value of nums is initially equal to 0. Perform this operation until nums becomes empty:\n",
    "\n",
    "If there exists more than one number in nums, pick the first element and last element in nums respectively and add the value of their concatenation to the concatenation value of nums, then delete the first and last element from nums.\n",
    "\n",
    "If one element exists, add its value to the concatenation value of nums, then delete it.\n",
    "Return the concatenation value of the nums."
   ]
  },
  {
   "attachments": {},
   "cell_type": "markdown",
   "metadata": {},
   "source": [
    "Example 1:\n",
    "\n",
    "Input: nums = [7,52,2,4]\n",
    "\n",
    "Output: 596\n",
    "\n",
    "Explanation: Before performing any operation, nums is [7,52,2,4] and concatenation value is 0.\n",
    "\n",
    " - In the first operation:\n",
    "\n",
    "We pick the first element, 7, and the last element, 4.\n",
    "\n",
    "Their concatenation is 74, and we add it to the concatenation value, so it becomes equal to 74.\n",
    "\n",
    "Then we delete them from nums, so nums becomes equal to [52,2].\n",
    " - In the second operation:\n",
    "\n",
    "We pick the first element, 52, and the last element, 2.\n",
    "Their concatenation is 522, and we add it to the concatenation value, so it becomes equal to 596.\n",
    "\n",
    "Then we delete them from the nums, so nums becomes empty.\n",
    "\n",
    "Since the concatenation value is 596 so the answer is 596."
   ]
  },
  {
   "attachments": {},
   "cell_type": "markdown",
   "metadata": {},
   "source": [
    "Example 2:\n",
    "\n",
    "Input: nums = [5,14,13,8,12]\n",
    "\n",
    "Output: 673\n",
    "\n",
    "Explanation: Before performing any operation, nums is [5,14,13,8,12] and concatenation value is 0.\n",
    "\n",
    " - In the first operation:\n",
    "\n",
    "We pick the first element, 5, and the last element, 12.\n",
    "Their concatenation is 512, and we add it to the concatenation value, so it becomes equal to 512.\n",
    "\n",
    "Then we delete them from the nums, so nums becomes equal to [14,13,8].\n",
    " - In the second operation:\n",
    "\n",
    "We pick the first element, 14, and the last element, 8.\n",
    "\n",
    "Their concatenation is 148, and we add it to the concatenation value, so it becomes equal to 660.\n",
    "\n",
    "Then we delete them from the nums, so nums becomes equal to [13].\n",
    " - In the third operation:\n",
    "\n",
    "nums has only one element, so we pick 13 and add it to the concatenation value, so it becomes equal to 673.\n",
    "\n",
    "Then we delete it from nums, so nums become empty.\n",
    "\n",
    "Since the concatenation value is 673 so the answer is 673."
   ]
  },
  {
   "cell_type": "code",
   "execution_count": 67,
   "metadata": {},
   "outputs": [],
   "source": [
    "class Solution(object):\n",
    "    def findTheArrayConcVal(self, nums):\n",
    "        total = [str(nums[i])+str(nums[len(nums)-i-1]) for i in range(len(nums)//2) ]\n",
    "        res = 0\n",
    "        if len(nums)%2==0:\n",
    "            for i in total:\n",
    "                res += int(i)\n",
    "        else:\n",
    "            for i in total:\n",
    "                res += int(i)\n",
    "            res += int(nums[len(nums)//2])\n",
    "        return res\n",
    "    "
   ]
  },
  {
   "cell_type": "code",
   "execution_count": 68,
   "metadata": {},
   "outputs": [],
   "source": [
    "nums = [7,52,2,4]"
   ]
  },
  {
   "cell_type": "code",
   "execution_count": 69,
   "metadata": {},
   "outputs": [],
   "source": [
    "res = Solution()"
   ]
  },
  {
   "cell_type": "code",
   "execution_count": 70,
   "metadata": {},
   "outputs": [
    {
     "data": {
      "text/plain": [
       "596"
      ]
     },
     "execution_count": 70,
     "metadata": {},
     "output_type": "execute_result"
    }
   ],
   "source": [
    "res.findTheArrayConcVal(nums)"
   ]
  },
  {
   "cell_type": "code",
   "execution_count": 71,
   "metadata": {},
   "outputs": [],
   "source": [
    "nums = [5,14,13,8,12]"
   ]
  },
  {
   "cell_type": "code",
   "execution_count": 72,
   "metadata": {},
   "outputs": [
    {
     "data": {
      "text/plain": [
       "673"
      ]
     },
     "execution_count": 72,
     "metadata": {},
     "output_type": "execute_result"
    }
   ],
   "source": [
    "res.findTheArrayConcVal(nums)"
   ]
  }
 ],
 "metadata": {
  "kernelspec": {
   "display_name": "Python 3",
   "language": "python",
   "name": "python3"
  },
  "language_info": {
   "codemirror_mode": {
    "name": "ipython",
    "version": 3
   },
   "file_extension": ".py",
   "mimetype": "text/x-python",
   "name": "python",
   "nbconvert_exporter": "python",
   "pygments_lexer": "ipython3",
   "version": "3.10.4"
  },
  "orig_nbformat": 4,
  "vscode": {
   "interpreter": {
    "hash": "3ad933181bd8a04b432d3370b9dc3b0662ad032c4dfaa4e4f1596c548f763858"
   }
  }
 },
 "nbformat": 4,
 "nbformat_minor": 2
}

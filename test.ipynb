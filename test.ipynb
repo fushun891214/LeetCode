{
 "cells": [
  {
   "attachments": {},
   "cell_type": "markdown",
   "metadata": {},
   "source": [
    "2535. Difference Between Element Sum and Digit Sum of an Array"
   ]
  },
  {
   "attachments": {},
   "cell_type": "markdown",
   "metadata": {},
   "source": [
    "You are given a positive integer array nums.\n",
    "\n",
    "The element sum is the sum of all the elements in nums.\n",
    "The digit sum is the sum of all the digits (not necessarily distinct) that appear in nums.\n",
    "Return the absolute difference between the element sum and digit sum of nums.\n",
    "\n",
    "Note that the absolute difference between two integers x and y is defined as |x - y|."
   ]
  },
  {
   "attachments": {},
   "cell_type": "markdown",
   "metadata": {},
   "source": [
    "Example 1:\n",
    "\n",
    "Input: nums = [1,15,6,3]\n",
    "\n",
    "Output: 9\n",
    "\n",
    "Explanation: \n",
    "\n",
    "The element sum of nums is 1 + 15 + 6 + 3 = 25.\n",
    "\n",
    "The digit sum of nums is 1 + 1 + 5 + 6 + 3 = 16.\n",
    "\n",
    "The absolute difference between the element sum and digit sum is |25 - 16| = 9."
   ]
  },
  {
   "attachments": {},
   "cell_type": "markdown",
   "metadata": {},
   "source": [
    "Example 2:\n",
    "\n",
    "Input: nums = [1,2,3,4]\n",
    "\n",
    "Output: 0\n",
    "\n",
    "Explanation:\n",
    "\n",
    "The element sum of nums is 1 + 2 + 3 + 4 = 10.\n",
    "\n",
    "The digit sum of nums is 1 + 2 + 3 + 4 = 10.\n",
    "\n",
    "The absolute difference between the element sum and digit sum is |10 - 10| = 0."
   ]
  },
  {
   "cell_type": "code",
   "execution_count": 25,
   "metadata": {},
   "outputs": [],
   "source": [
    "nums = [1,15,6,3]"
   ]
  },
  {
   "cell_type": "code",
   "execution_count": 37,
   "metadata": {},
   "outputs": [],
   "source": [
    "class Solution(object):\n",
    "    def differenceOfSum(nums):\n",
    "        a = 0\n",
    "        b = 0\n",
    "        string = \"\"\n",
    "        for i in range(len(nums)):\n",
    "            a += nums[i]\n",
    "        for i in nums:\n",
    "            string += str(i)\n",
    "        for i in string:\n",
    "            b += int(i)\n",
    "        return (a-b)"
   ]
  },
  {
   "cell_type": "code",
   "execution_count": 38,
   "metadata": {},
   "outputs": [
    {
     "data": {
      "text/plain": [
       "9"
      ]
     },
     "execution_count": 38,
     "metadata": {},
     "output_type": "execute_result"
    }
   ],
   "source": [
    "Solution.differenceOfSum(nums)"
   ]
  },
  {
   "cell_type": "code",
   "execution_count": 39,
   "metadata": {},
   "outputs": [],
   "source": [
    "nums = [1,2,3,4]"
   ]
  },
  {
   "cell_type": "code",
   "execution_count": 40,
   "metadata": {},
   "outputs": [
    {
     "data": {
      "text/plain": [
       "0"
      ]
     },
     "execution_count": 40,
     "metadata": {},
     "output_type": "execute_result"
    }
   ],
   "source": [
    "Solution.differenceOfSum(nums)"
   ]
  }
 ],
 "metadata": {
  "kernelspec": {
   "display_name": "Python 3",
   "language": "python",
   "name": "python3"
  },
  "language_info": {
   "codemirror_mode": {
    "name": "ipython",
    "version": 3
   },
   "file_extension": ".py",
   "mimetype": "text/x-python",
   "name": "python",
   "nbconvert_exporter": "python",
   "pygments_lexer": "ipython3",
   "version": "3.10.4"
  },
  "orig_nbformat": 4,
  "vscode": {
   "interpreter": {
    "hash": "3ad933181bd8a04b432d3370b9dc3b0662ad032c4dfaa4e4f1596c548f763858"
   }
  }
 },
 "nbformat": 4,
 "nbformat_minor": 2
}

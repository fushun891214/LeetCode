{
 "cells": [
  {
   "cell_type": "markdown",
   "metadata": {},
   "source": [
    "2011. Final Value of Variable After Performing Operations"
   ]
  },
  {
   "cell_type": "markdown",
   "metadata": {},
   "source": [
    "There is a programming language with only four operations and one variable X:\n",
    "\n",
    "++X and X++ increments the value of the variable X by 1.\n",
    "\n",
    "--X and X-- decrements the value of the variable X by 1.\n",
    "Initially, the value of X is 0.\n",
    "\n",
    "Given an array of strings operations containing a list of operations, return the final value of X after performing all the operations."
   ]
  },
  {
   "cell_type": "markdown",
   "metadata": {},
   "source": [
    "Example 1:\n",
    "\n",
    "Input: operations = [\"--X\",\"X++\",\"X++\"]\n",
    "\n",
    "Output: 1\n",
    "\n",
    "Explanation: The operations are performed as follows:\n",
    "\n",
    "Initially, X = 0.\n",
    "\n",
    "--X: X is decremented by 1, X =  0 - 1 = -1.\n",
    "\n",
    "X++: X is incremented by 1, X = -1 + 1 =  0.\n",
    "\n",
    "X++: X is incremented by 1, X =  0 + 1 =  1."
   ]
  },
  {
   "cell_type": "markdown",
   "metadata": {},
   "source": [
    "Example 2:\n",
    "\n",
    "Input: operations = [\"++X\",\"++X\",\"X++\"]\n",
    "\n",
    "Output: 3\n",
    "\n",
    "Explanation: The operations are performed as follows:\n",
    "\n",
    "Initially, X = 0.\n",
    "\n",
    "++X: X is incremented by 1, X = 0 + 1 = 1.\n",
    "\n",
    "++X: X is incremented by 1, X = 1 + 1 = 2.\n",
    "\n",
    "X++: X is incremented by 1, X = 2 + 1 = 3."
   ]
  },
  {
   "cell_type": "markdown",
   "metadata": {},
   "source": [
    "Example 3:\n",
    "\n",
    "Input: operations = [\"X++\",\"++X\",\"--X\",\"X--\"]\n",
    "\n",
    "Output: 0\n",
    "\n",
    "Explanation: The operations are performed as follows:\n",
    "\n",
    "Initially, X = 0.\n",
    "\n",
    "X++: X is incremented by 1, X = 0 + 1 = 1.\n",
    "\n",
    "++X: X is incremented by 1, X = 1 + 1 = 2.\n",
    "\n",
    "--X: X is decremented by 1, X = 2 - 1 = 1.\n",
    "\n",
    "X--: X is decremented by 1, X = 1 - 1 = 0."
   ]
  },
  {
   "cell_type": "code",
   "execution_count": 25,
   "metadata": {},
   "outputs": [],
   "source": [
    "class Solution(object):\n",
    "    def finalValueAfterOperations(self, operations):\n",
    "        n = 0\n",
    "        for i in operations:\n",
    "            if i == \"--X\":\n",
    "                n = n-1\n",
    "            elif i == \"X++\":\n",
    "                n = n+1;\n",
    "            elif i == \"++X\":\n",
    "                n = n+1\n",
    "            else:\n",
    "                n = n-1 \n",
    "        return n"
   ]
  },
  {
   "cell_type": "code",
   "execution_count": 26,
   "metadata": {},
   "outputs": [],
   "source": [
    "operations = [\"--X\",\"X++\",\"X++\"]"
   ]
  },
  {
   "cell_type": "code",
   "execution_count": 27,
   "metadata": {},
   "outputs": [],
   "source": [
    "res = Solution()"
   ]
  },
  {
   "cell_type": "code",
   "execution_count": 28,
   "metadata": {},
   "outputs": [
    {
     "data": {
      "text/plain": [
       "1"
      ]
     },
     "execution_count": 28,
     "metadata": {},
     "output_type": "execute_result"
    }
   ],
   "source": [
    "res.finalValueAfterOperations(operations)"
   ]
  }
 ],
 "metadata": {
  "kernelspec": {
   "display_name": "Python 3",
   "language": "python",
   "name": "python3"
  },
  "language_info": {
   "codemirror_mode": {
    "name": "ipython",
    "version": 3
   },
   "file_extension": ".py",
   "mimetype": "text/x-python",
   "name": "python",
   "nbconvert_exporter": "python",
   "pygments_lexer": "ipython3",
   "version": "3.8.5"
  }
 },
 "nbformat": 4,
 "nbformat_minor": 4
}

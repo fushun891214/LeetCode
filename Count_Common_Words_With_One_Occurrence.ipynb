{
 "cells": [
  {
   "attachments": {},
   "cell_type": "markdown",
   "metadata": {},
   "source": [
    "2085. Count Common Words With One Occurrence"
   ]
  },
  {
   "attachments": {},
   "cell_type": "markdown",
   "metadata": {},
   "source": [
    "Given two string arrays words1 and words2, return the number of strings that appear exactly once in each of the two arrays.\n",
    "\n"
   ]
  },
  {
   "attachments": {},
   "cell_type": "markdown",
   "metadata": {},
   "source": [
    "Example 1:\n",
    "\n",
    "Input: words1 = [\"leetcode\",\"is\",\"amazing\",\"as\",\"is\"], words2 = [\"amazing\",\"leetcode\",\"is\"]\n",
    "\n",
    "Output: 2\n",
    "\n",
    "Explanation:\n",
    "\n",
    "- \"leetcode\" appears exactly once in each of the two arrays. We count this string.\n",
    "\n",
    "- \"amazing\" appears exactly once in each of the two arrays. We count this string.\n",
    "\n",
    "- \"is\" appears in each of the two arrays, but there are 2 occurrences of it in words1. We do not count this string.\n",
    "\n",
    "- \"as\" appears once in words1, but does not appear in words2. We do not count this string.\n",
    "\n",
    "Thus, there are 2 strings that appear exactly once in each of the two arrays."
   ]
  },
  {
   "attachments": {},
   "cell_type": "markdown",
   "metadata": {},
   "source": [
    "Example 2:\n",
    "\n",
    "Input: words1 = [\"b\",\"bb\",\"bbb\"], words2 = [\"a\",\"aa\",\"aaa\"]\n",
    "\n",
    "Output: 0\n",
    "\n",
    "Explanation: There are no strings that appear in each of the two arrays."
   ]
  },
  {
   "attachments": {},
   "cell_type": "markdown",
   "metadata": {},
   "source": [
    "Example 3:\n",
    "\n",
    "Input: words1 = [\"a\",\"ab\"], words2 = [\"a\",\"a\",\"a\",\"ab\"]\n",
    "\n",
    "Output: 1\n",
    "\n",
    "Explanation: The only string that appears exactly once in each of the two arrays is \"ab\"."
   ]
  },
  {
   "cell_type": "code",
   "execution_count": 46,
   "metadata": {},
   "outputs": [],
   "source": [
    "class Solution(object):\n",
    "    def countWords(self, words1, words2):\n",
    "        temp1 = []\n",
    "        temp2 = []\n",
    "        counter = 0\n",
    "\n",
    "        for i in range(len(words1)):\n",
    "            if words1.count(words1[i]) > 1:\n",
    "                continue\n",
    "            temp1.append(words1[i])\n",
    "        for i in range(len(words2)):\n",
    "            if words2.count(words2[i]) > 1:\n",
    "                continue\n",
    "            temp2.append(words2[i])\n",
    "\n",
    "        for i in temp1:\n",
    "            for j in temp2:\n",
    "                if i == j:\n",
    "                    counter += 1\n",
    "\n",
    "        return counter"
   ]
  },
  {
   "cell_type": "code",
   "execution_count": 47,
   "metadata": {},
   "outputs": [],
   "source": [
    "res = Solution()"
   ]
  },
  {
   "cell_type": "code",
   "execution_count": 48,
   "metadata": {},
   "outputs": [],
   "source": [
    "words1 = [\"leetcode\",\"is\",\"amazing\",\"as\",\"is\"]\n",
    "words2 = [\"amazing\",\"leetcode\",\"is\"]"
   ]
  },
  {
   "cell_type": "code",
   "execution_count": 49,
   "metadata": {},
   "outputs": [
    {
     "data": {
      "text/plain": [
       "2"
      ]
     },
     "execution_count": 49,
     "metadata": {},
     "output_type": "execute_result"
    }
   ],
   "source": [
    "res.countWords(words1,words2)"
   ]
  },
  {
   "cell_type": "code",
   "execution_count": 50,
   "metadata": {},
   "outputs": [],
   "source": [
    "words1 = [\"b\",\"bb\",\"bbb\"]\n",
    "words2 = [\"a\",\"aa\",\"aaa\"]"
   ]
  },
  {
   "cell_type": "code",
   "execution_count": 51,
   "metadata": {},
   "outputs": [
    {
     "data": {
      "text/plain": [
       "0"
      ]
     },
     "execution_count": 51,
     "metadata": {},
     "output_type": "execute_result"
    }
   ],
   "source": [
    "res.countWords(words1,words2)"
   ]
  },
  {
   "cell_type": "code",
   "execution_count": 52,
   "metadata": {},
   "outputs": [],
   "source": [
    "words1 = [\"a\",\"ab\"]\n",
    "words2 = [\"a\",\"a\",\"a\",\"ab\"]"
   ]
  },
  {
   "cell_type": "code",
   "execution_count": 53,
   "metadata": {},
   "outputs": [
    {
     "data": {
      "text/plain": [
       "1"
      ]
     },
     "execution_count": 53,
     "metadata": {},
     "output_type": "execute_result"
    }
   ],
   "source": [
    "res.countWords(words1,words2)"
   ]
  }
 ],
 "metadata": {
  "kernelspec": {
   "display_name": "Python 3",
   "language": "python",
   "name": "python3"
  },
  "language_info": {
   "codemirror_mode": {
    "name": "ipython",
    "version": 3
   },
   "file_extension": ".py",
   "mimetype": "text/x-python",
   "name": "python",
   "nbconvert_exporter": "python",
   "pygments_lexer": "ipython3",
   "version": "3.10.4"
  },
  "orig_nbformat": 4
 },
 "nbformat": 4,
 "nbformat_minor": 2
}
